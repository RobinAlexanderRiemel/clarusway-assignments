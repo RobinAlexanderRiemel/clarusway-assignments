{
    "metadata": {
        "kernelspec": {
            "name": "SQL",
            "display_name": "SQL",
            "language": "sql"
        },
        "language_info": {
            "name": "sql",
            "version": ""
        }
    },
    "nbformat_minor": 2,
    "nbformat": 4,
    "cells": [
        {
            "cell_type": "code",
            "source": [
                "select *, case\n",
                "\t\t\twhen shipped_date is null then 'not shipped'\n",
                "\t\t\twhen shipped_date = order_date then 'fast'\n",
                "\t\t\twhen datediff(day, order_date, shipped_date) <= 2 then 'normal'\n",
                "\t\t\telse 'slow'\n",
                "\t\tend as order_label\n",
                "from [sale].[orders]"
            ],
            "metadata": {
                "azdata_cell_guid": "79867d95-d25f-487e-92df-fcdffdb9c41b",
                "language": "sql"
            },
            "outputs": [
                {
                    "output_type": "error",
                    "evalue": "Msg 208, Level 16, State 1, Line 1\nInvalid object name 'sale.orders'.",
                    "ename": "",
                    "traceback": []
                },
                {
                    "output_type": "display_data",
                    "data": {
                        "text/html": "Total execution time: 00:00:00.034"
                    },
                    "metadata": {}
                }
            ],
            "execution_count": 2
        }
    ]
}